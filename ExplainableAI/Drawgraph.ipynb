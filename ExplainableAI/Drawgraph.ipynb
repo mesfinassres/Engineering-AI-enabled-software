{
 "cells": [
  {
   "cell_type": "code",
   "execution_count": null,
   "metadata": {},
   "outputs": [],
   "source": [
    "import matplotlib.pyplot as plt\n",
    "\n",
    "x_axis = ['value_1', 'value_2', 'value_3', ...]\n",
    "y_axis = ['value_1', 'value_2', 'value_3', ...]\n",
    "\n",
    "plt.bar(x_axis, y_axis)\n",
    "plt.title('title name')\n",
    "plt.xlabel('x_axis name')\n",
    "plt.ylabel('y_axis name')\n",
    "plt.show()"
   ]
  },
  {
   "cell_type": "code",
   "execution_count": null,
   "metadata": {},
   "outputs": [],
   "source": [
    "2+2\n"
   ]
  },
  {
   "cell_type": "code",
   "execution_count": null,
   "metadata": {},
   "outputs": [],
   "source": []
  }
 ],
 "metadata": {
  "language_info": {
   "name": "python"
  },
  "orig_nbformat": 4
 },
 "nbformat": 4,
 "nbformat_minor": 2
}
